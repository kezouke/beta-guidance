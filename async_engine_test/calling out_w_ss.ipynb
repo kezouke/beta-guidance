{
 "cells": [
  {
   "cell_type": "code",
   "execution_count": 1,
   "id": "7f7f4971-d7bf-4a77-ab6f-9c7a51273b98",
   "metadata": {},
   "outputs": [],
   "source": [
    "import requests"
   ]
  },
  {
   "cell_type": "code",
   "execution_count": 2,
   "id": "7f477c8d-6cd8-4157-ba83-797b5efec458",
   "metadata": {},
   "outputs": [],
   "source": [
    "url = 'http://10.100.30.239:1222/generate'"
   ]
  },
  {
   "cell_type": "code",
   "execution_count": 10,
   "id": "bce9f6fa-6533-48a2-aa39-600489f1f5cb",
   "metadata": {},
   "outputs": [
    {
     "name": "stdout",
     "output_type": "stream",
     "text": [
      "There is a request from the user to create a task in task management system. Please, extract the status of this task that will be placed in Task Management System.\n",
      "Example 1: Обнови статус задачи по проведению пентеста на выполнено.\n",
      "Answer: \"выполнено\"\n",
      "\n",
      "Example 2: \"Создай Ване задачу по рефакторингу кода. И поставь статус - в процессе\"\n",
      "Answer: \"в процессе\"\n",
      "\n",
      "Example 3: \"Покажи мне исполнителей задачи по построению графиков\"\n",
      "Answer: \"null\"\n",
      "\n",
      "Example 4: \"Создай задачу купить конфет, статус в процессе\"\n",
      "Answer: \"\n"
     ]
    }
   ],
   "source": [
    "prompt = '''There is a request from the user to create a task in task management system. Please, extract the status of this task that will be placed in Task Management System.\n",
    "Example 1: Обнови статус задачи по проведению пентеста на выполнено.\n",
    "Answer: \"выполнено\"\n",
    "\n",
    "Example 2: \"Создай Ване задачу по рефакторингу кода. И поставь статус - в процессе\"\n",
    "Answer: \"в процессе\"\n",
    "\n",
    "Example 3: \"Покажи мне исполнителей задачи по построению графиков\"\n",
    "Answer: \"null\"\n",
    "\n",
    "Example 4: \"Создай задачу купить конфет, статус в процессе\"\n",
    "Answer: \"'''\n",
    "\n",
    "print(prompt)"
   ]
  },
  {
   "cell_type": "code",
   "execution_count": 11,
   "id": "0e585114-87ce-480b-8d5d-f85458b7a845",
   "metadata": {
    "scrolled": true
   },
   "outputs": [
    {
     "name": "stdout",
     "output_type": "stream",
     "text": [
      "[\"в процессе\"]\n"
     ]
    },
    {
     "data": {
      "text/plain": [
       "2.3897159099578857"
      ]
     },
     "execution_count": 11,
     "metadata": {},
     "output_type": "execute_result"
    }
   ],
   "source": [
    "import time\n",
    "s = time.time()\n",
    "\n",
    "substirng = \"Создай задачу купить конфет, статус в процессе\"\n",
    "\n",
    "substring_example = {'prompt': prompt, 'substring': substirng}\n",
    "x = requests.post(url, json = substring_example)\n",
    "\n",
    "print(x.text)\n",
    "time.time() - s"
   ]
  },
  {
   "cell_type": "code",
   "execution_count": 12,
   "id": "c110494a-98a0-4f2b-a2d0-655ced4b3f1f",
   "metadata": {},
   "outputs": [
    {
     "name": "stdout",
     "output_type": "stream",
     "text": [
      "[\"good \"]\n"
     ]
    },
    {
     "data": {
      "text/plain": [
       "0.7790429592132568"
      ]
     },
     "execution_count": 12,
     "metadata": {},
     "output_type": "execute_result"
    }
   ],
   "source": [
    "import time\n",
    "\n",
    "s = time.time()\n",
    "\n",
    "data = {'prompt': 'The weather is amazing! It is so ', 'substring': 'good day! bad day, I hate it'}\n",
    "x = requests.post(url, json = data)\n",
    "\n",
    "print(x.text)\n",
    "time.time() - s"
   ]
  },
  {
   "cell_type": "code",
   "execution_count": 22,
   "id": "1f2b3cb6-9c9d-4afb-bd24-263693c6f473",
   "metadata": {},
   "outputs": [
    {
     "name": "stdout",
     "output_type": "stream",
     "text": [
      "Time taken: 2.8456337451934814\n",
      "Result of request 1: b'[\"good day!\"]'\n",
      "Result of request 2: b'[\"good day!\"]'\n",
      "Result of request 3: b'[\"good day!\"]'\n"
     ]
    }
   ],
   "source": [
    "import requests\n",
    "import time\n",
    "import random\n",
    "import string\n",
    "from concurrent.futures import ThreadPoolExecutor\n",
    "\n",
    "# URL to which requests will be sent\n",
    "\n",
    "def generate_random_data():\n",
    "    random_string = ''.join(random.choices(string.ascii_letters + string.digits, k=600))\n",
    "    return {\"inputs\": f\"{random_string}?\"}\n",
    "\n",
    "# Function to send a request and return the response content\n",
    "def send_request(data):\n",
    "    response = requests.post(url, json=data)\n",
    "    return response.content\n",
    "\n",
    "# Number of requests to send\n",
    "num_requests = 3\n",
    "\n",
    "# Sample data for requests\n",
    "data = {'prompt': 'The weather is amazing! It is so ', 'substring': 'good day! bad day, I hate it'}\n",
    "\n",
    "# Start time\n",
    "ts = time.time()\n",
    "\n",
    "# Use ThreadPoolExecutor to send requests in parallel\n",
    "with ThreadPoolExecutor(max_workers=num_requests) as executor:\n",
    "    # Submit all requests and collect the futures\n",
    "    futures = [executor.submit(send_request, data) for _ in range(num_requests)]\n",
    "\n",
    "# Wait for all requests to complete and retrieve the results\n",
    "results = [future.result() for future in futures]\n",
    "\n",
    "# Stop time\n",
    "time_stop = time.time()\n",
    "print(\"Time taken:\", time_stop - ts)\n",
    "\n",
    "# Print the result of each request\n",
    "for idx, result in enumerate(results):\n",
    "    print(f\"Result of request {idx + 1}: {result}\")"
   ]
  },
  {
   "cell_type": "code",
   "execution_count": 116,
   "id": "bfa95957-1ad6-4e82-b188-af1875465e8f",
   "metadata": {
    "scrolled": true
   },
   "outputs": [
    {
     "name": "stdout",
     "output_type": "stream",
     "text": [
      "8.797425270080566\n",
      "CPU times: user 22.6 ms, sys: 0 ns, total: 22.6 ms\n",
      "Wall time: 8.8 s\n"
     ]
    }
   ],
   "source": [
    "%%time\n",
    "ts = time.time()\n",
    "\n",
    "# Send requests synchronously\n",
    "for _ in range(num_requests):\n",
    "    status_code = send_request(data)\n",
    "time_stop = time.time()\n",
    "print(time_stop-ts)"
   ]
  },
  {
   "cell_type": "code",
   "execution_count": null,
   "id": "2143f440-b1f5-4a0d-86a2-ec198fb105b6",
   "metadata": {},
   "outputs": [],
   "source": []
  }
 ],
 "metadata": {
  "kernelspec": {
   "display_name": "Python 3 (ipykernel)",
   "language": "python",
   "name": "python3"
  },
  "language_info": {
   "codemirror_mode": {
    "name": "ipython",
    "version": 3
   },
   "file_extension": ".py",
   "mimetype": "text/x-python",
   "name": "python",
   "nbconvert_exporter": "python",
   "pygments_lexer": "ipython3",
   "version": "3.10.12"
  }
 },
 "nbformat": 4,
 "nbformat_minor": 5
}
